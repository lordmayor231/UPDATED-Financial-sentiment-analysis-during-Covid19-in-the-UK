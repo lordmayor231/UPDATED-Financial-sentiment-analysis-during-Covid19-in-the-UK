{
 "cells": [
  {
   "cell_type": "markdown",
   "metadata": {},
   "source": [
    "# Imports"
   ]
  },
  {
   "cell_type": "code",
   "execution_count": 1,
   "metadata": {
    "scrolled": true
   },
   "outputs": [],
   "source": [
    "import pandas as pd # provide sql-like data manipulation tools. very handy.\n",
    "pd.options.mode.chained_assignment = None\n",
    "import numpy as np # high dimensional vector computing library.\n",
    "from copy import deepcopy\n",
    "from string import punctuation\n",
    "from random import shuffle\n",
    "import pickle\n",
    "import h5py\n",
    "import json\n",
    "import matplotlib.pyplot as plt\n",
    "import re\n",
    "\n",
    "import gensim\n",
    "from gensim.models.word2vec import Word2Vec # the word2vec model gensim class\n",
    "\n",
    "from tqdm import tqdm\n",
    "tqdm.pandas(desc=\"progress-bar\")\n",
    "\n",
    "from nltk.tokenize import TweetTokenizer # a tweet tokenizer from nltk.\n",
    "from nltk import word_tokenize\n",
    "\n",
    "from sklearn.preprocessing import scale\n",
    "from sklearn.model_selection import train_test_split\n",
    "from sklearn.feature_extraction.text import TfidfVectorizer\n",
    "\n",
    "from keras.preprocessing.image import ImageDataGenerator\n",
    "from keras.models import Sequential\n",
    "from keras.layers import Dense\n",
    "from keras.layers import Dropout\n",
    "from keras.layers import Flatten\n",
    "from keras.constraints import maxnorm\n",
    "from tensorflow.keras.optimizers import SGD\n",
    "from keras.layers.convolutional import Conv2D\n",
    "from keras.layers.convolutional import MaxPooling2D\n",
    "from keras.utils import np_utils\n",
    "from keras.callbacks import Callback\n",
    "from keras.models import model_from_json\n",
    "\n",
    "\n",
    "# importing bokeh library for interactive dataviz\n",
    "import bokeh.plotting as bp\n",
    "from bokeh.models import HoverTool, BoxSelectTool\n",
    "from bokeh.plotting import figure, show, output_notebook\n",
    "\n"
   ]
  },
  {
   "cell_type": "markdown",
   "metadata": {},
   "source": [
    "# Loading Data"
   ]
  },
  {
   "cell_type": "code",
   "execution_count": 2,
   "metadata": {},
   "outputs": [
    {
     "name": "stdout",
     "output_type": "stream",
     "text": [
      "dataset loaded with shape (12524, 3)\n"
     ]
    },
    {
     "data": {
      "text/html": [
       "<div>\n",
       "<style scoped>\n",
       "    .dataframe tbody tr th:only-of-type {\n",
       "        vertical-align: middle;\n",
       "    }\n",
       "\n",
       "    .dataframe tbody tr th {\n",
       "        vertical-align: top;\n",
       "    }\n",
       "\n",
       "    .dataframe thead th {\n",
       "        text-align: right;\n",
       "    }\n",
       "</style>\n",
       "<table border=\"1\" class=\"dataframe\">\n",
       "  <thead>\n",
       "    <tr style=\"text-align: right;\">\n",
       "      <th></th>\n",
       "      <th>Date</th>\n",
       "      <th>SentimentText</th>\n",
       "      <th>Sentiment</th>\n",
       "    </tr>\n",
       "  </thead>\n",
       "  <tbody>\n",
       "    <tr>\n",
       "      <th>0</th>\n",
       "      <td>2020-03-25 06:36:25+00:00</td>\n",
       "      <td>$DG #Dollar General #Options #maxpain Chart, O...</td>\n",
       "      <td>1.0</td>\n",
       "    </tr>\n",
       "    <tr>\n",
       "      <th>1</th>\n",
       "      <td>2020-03-25 06:18:32+00:00</td>\n",
       "      <td>??Education is not only a ladder of opportuni...</td>\n",
       "      <td>NaN</td>\n",
       "    </tr>\n",
       "    <tr>\n",
       "      <th>2</th>\n",
       "      <td>2020-03-25 06:05:46+00:00</td>\n",
       "      <td>$GCLT news coming soon #fintech #finance https...</td>\n",
       "      <td>NaN</td>\n",
       "    </tr>\n",
       "    <tr>\n",
       "      <th>3</th>\n",
       "      <td>2020-03-25 06:35:29+00:00</td>\n",
       "      <td>That amazing feeling when you finally close a ...</td>\n",
       "      <td>1.0</td>\n",
       "    </tr>\n",
       "    <tr>\n",
       "      <th>4</th>\n",
       "      <td>2020-03-25 06:15:49+00:00</td>\n",
       "      <td>From OHM to SHIB: 5 Most Impressive Altcoins o...</td>\n",
       "      <td>1.0</td>\n",
       "    </tr>\n",
       "  </tbody>\n",
       "</table>\n",
       "</div>"
      ],
      "text/plain": [
       "                        Date  \\\n",
       "0  2020-03-25 06:36:25+00:00   \n",
       "1  2020-03-25 06:18:32+00:00   \n",
       "2  2020-03-25 06:05:46+00:00   \n",
       "3  2020-03-25 06:35:29+00:00   \n",
       "4  2020-03-25 06:15:49+00:00   \n",
       "\n",
       "                                       SentimentText  Sentiment  \n",
       "0  $DG #Dollar General #Options #maxpain Chart, O...        1.0  \n",
       "1  ??Education is not only a ladder of opportuni...        NaN  \n",
       "2  $GCLT news coming soon #fintech #finance https...        NaN  \n",
       "3  That amazing feeling when you finally close a ...        1.0  \n",
       "4  From OHM to SHIB: 5 Most Impressive Altcoins o...        1.0  "
      ]
     },
     "execution_count": 2,
     "metadata": {},
     "output_type": "execute_result"
    }
   ],
   "source": [
    "def ingest():\n",
    "    data = pd.read_csv('data.csv', encoding='latin-1') # Enter your file location\n",
    "    data.columns=[\"Date\",\"SentimentText\",\"Sentiment\"]\n",
    "    data = data[data.Sentiment.isnull() == False]\n",
    "    data['Sentiment'] = data['Sentiment'].map( {'Positive':1, \"Negative\":0}) \n",
    "    data = data[data['SentimentText'].isnull() == False]\n",
    "    data.reset_index(inplace=True)\n",
    "    data.drop('index', axis=1, inplace=True)\n",
    "    print ('dataset loaded with shape', data.shape  )  \n",
    "    return data\n",
    "\n",
    "data = ingest()\n",
    "data.head()"
   ]
  },
  {
   "cell_type": "markdown",
   "metadata": {},
   "source": [
    "# Processing Data"
   ]
  },
  {
   "cell_type": "code",
   "execution_count": 3,
   "metadata": {},
   "outputs": [
    {
     "data": {
      "text/html": [
       "<div>\n",
       "<style scoped>\n",
       "    .dataframe tbody tr th:only-of-type {\n",
       "        vertical-align: middle;\n",
       "    }\n",
       "\n",
       "    .dataframe tbody tr th {\n",
       "        vertical-align: top;\n",
       "    }\n",
       "\n",
       "    .dataframe thead th {\n",
       "        text-align: right;\n",
       "    }\n",
       "</style>\n",
       "<table border=\"1\" class=\"dataframe\">\n",
       "  <thead>\n",
       "    <tr style=\"text-align: right;\">\n",
       "      <th></th>\n",
       "      <th>Date</th>\n",
       "      <th>SentimentText</th>\n",
       "      <th>Sentiment</th>\n",
       "    </tr>\n",
       "  </thead>\n",
       "  <tbody>\n",
       "    <tr>\n",
       "      <th>0</th>\n",
       "      <td>2020-03-25 06:36:25+00:00</td>\n",
       "      <td>$DG #Dollar General #Options #maxpain Chart, O...</td>\n",
       "      <td>1.0</td>\n",
       "    </tr>\n",
       "    <tr>\n",
       "      <th>3</th>\n",
       "      <td>2020-03-25 06:35:29+00:00</td>\n",
       "      <td>That amazing feeling when you finally close a ...</td>\n",
       "      <td>1.0</td>\n",
       "    </tr>\n",
       "    <tr>\n",
       "      <th>4</th>\n",
       "      <td>2020-03-25 06:15:49+00:00</td>\n",
       "      <td>From OHM to SHIB: 5 Most Impressive Altcoins o...</td>\n",
       "      <td>1.0</td>\n",
       "    </tr>\n",
       "    <tr>\n",
       "      <th>5</th>\n",
       "      <td>2020-03-25 06:12:38+00:00</td>\n",
       "      <td>https://t.co/8gINJWxBxN #Finance #StockMarket ...</td>\n",
       "      <td>1.0</td>\n",
       "    </tr>\n",
       "    <tr>\n",
       "      <th>6</th>\n",
       "      <td>2020-03-25 06:32:38+00:00</td>\n",
       "      <td>TP HITS 1814???????ø\\n\\nTo get daily signals l...</td>\n",
       "      <td>1.0</td>\n",
       "    </tr>\n",
       "  </tbody>\n",
       "</table>\n",
       "</div>"
      ],
      "text/plain": [
       "                        Date  \\\n",
       "0  2020-03-25 06:36:25+00:00   \n",
       "3  2020-03-25 06:35:29+00:00   \n",
       "4  2020-03-25 06:15:49+00:00   \n",
       "5  2020-03-25 06:12:38+00:00   \n",
       "6  2020-03-25 06:32:38+00:00   \n",
       "\n",
       "                                       SentimentText  Sentiment  \n",
       "0  $DG #Dollar General #Options #maxpain Chart, O...        1.0  \n",
       "3  That amazing feeling when you finally close a ...        1.0  \n",
       "4  From OHM to SHIB: 5 Most Impressive Altcoins o...        1.0  \n",
       "5  https://t.co/8gINJWxBxN #Finance #StockMarket ...        1.0  \n",
       "6  TP HITS 1814???????ø\\n\\nTo get daily signals l...        1.0  "
      ]
     },
     "execution_count": 3,
     "metadata": {},
     "output_type": "execute_result"
    }
   ],
   "source": [
    "data.dropna(inplace = True)\n",
    "data.head()"
   ]
  },
  {
   "cell_type": "code",
   "execution_count": 4,
   "metadata": {},
   "outputs": [],
   "source": [
    "def TextClean(tweet):\n",
    "    tweet = tweet.lower()\n",
    "    tweet = re.sub(r'@[a-z0-9_]\\S+', '', tweet)\n",
    "    tweet = re.sub(r'#[a-z0-9_]\\S+', '', tweet)\n",
    "    tweet = re.sub(r'&[a-z0-9_]\\S+', '', tweet)\n",
    "    tweet = re.sub(r'[?!.+,;$%&\"]+', '', tweet)\n",
    "    tweet = re.sub(r'rt[\\s]+', '', tweet)\n",
    "    tweet = re.sub(r'\\d+', '', tweet)\n",
    "    tweet = re.sub(r'\\$', '', tweet)\n",
    "    tweet = re.sub(r'rt+', '', tweet)\n",
    "    tweet = re.sub(r'https?:?\\/\\/\\S+', '', tweet)\n",
    "    \n",
    "    return tweet"
   ]
  },
  {
   "cell_type": "code",
   "execution_count": 5,
   "metadata": {},
   "outputs": [],
   "source": [
    "tokenizer = TweetTokenizer()\n",
    "def tokenize(tweet):\n",
    "    try:\n",
    "        tweet = tweet.lower()\n",
    "        tokens = tokenizer.tokenize(tweet)\n",
    "        tokens = list(filter(lambda t: not t.startswith('@'), tokens))\n",
    "        tokens = list(filter(lambda t: not t.startswith('#'), tokens))\n",
    "        tokens = list(filter(lambda t: not t.startswith('http'), tokens))\n",
    "        return tokens\n",
    "    except:\n",
    "        return 'NC'"
   ]
  },
  {
   "cell_type": "code",
   "execution_count": 6,
   "metadata": {
    "scrolled": true
   },
   "outputs": [
    {
     "name": "stderr",
     "output_type": "stream",
     "text": [
      "progress-bar: 100%|██████████████████████████████████████████████████████████████| 8008/8008 [00:02<00:00, 2892.50it/s]\n"
     ]
    },
    {
     "data": {
      "text/html": [
       "<div>\n",
       "<style scoped>\n",
       "    .dataframe tbody tr th:only-of-type {\n",
       "        vertical-align: middle;\n",
       "    }\n",
       "\n",
       "    .dataframe tbody tr th {\n",
       "        vertical-align: top;\n",
       "    }\n",
       "\n",
       "    .dataframe thead th {\n",
       "        text-align: right;\n",
       "    }\n",
       "</style>\n",
       "<table border=\"1\" class=\"dataframe\">\n",
       "  <thead>\n",
       "    <tr style=\"text-align: right;\">\n",
       "      <th></th>\n",
       "      <th>Date</th>\n",
       "      <th>SentimentText</th>\n",
       "      <th>Sentiment</th>\n",
       "      <th>tokens</th>\n",
       "    </tr>\n",
       "  </thead>\n",
       "  <tbody>\n",
       "    <tr>\n",
       "      <th>0</th>\n",
       "      <td>2020-03-25 06:36:25+00:00</td>\n",
       "      <td>$DG #Dollar General #Options #maxpain Chart, O...</td>\n",
       "      <td>1.0</td>\n",
       "      <td>[$, dg, general, chart, ,, open, interest, cha...</td>\n",
       "    </tr>\n",
       "    <tr>\n",
       "      <th>1</th>\n",
       "      <td>2020-03-25 06:35:29+00:00</td>\n",
       "      <td>That amazing feeling when you finally close a ...</td>\n",
       "      <td>1.0</td>\n",
       "      <td>[that, amazing, feeling, when, you, finally, c...</td>\n",
       "    </tr>\n",
       "    <tr>\n",
       "      <th>2</th>\n",
       "      <td>2020-03-25 06:15:49+00:00</td>\n",
       "      <td>From OHM to SHIB: 5 Most Impressive Altcoins o...</td>\n",
       "      <td>1.0</td>\n",
       "      <td>[from, ohm, to, shib, :, 5, most, impressive, ...</td>\n",
       "    </tr>\n",
       "    <tr>\n",
       "      <th>3</th>\n",
       "      <td>2020-03-25 06:12:38+00:00</td>\n",
       "      <td>https://t.co/8gINJWxBxN #Finance #StockMarket ...</td>\n",
       "      <td>1.0</td>\n",
       "      <td>[$, avct, $, bjdx, market, down, after, 1, day...</td>\n",
       "    </tr>\n",
       "    <tr>\n",
       "      <th>4</th>\n",
       "      <td>2020-03-25 06:32:38+00:00</td>\n",
       "      <td>TP HITS 1814???????ø\\n\\nTo get daily signals l...</td>\n",
       "      <td>1.0</td>\n",
       "      <td>[tp, hits, 1814, ?, ?, ?, ø, to, get, daily, s...</td>\n",
       "    </tr>\n",
       "  </tbody>\n",
       "</table>\n",
       "</div>"
      ],
      "text/plain": [
       "                        Date  \\\n",
       "0  2020-03-25 06:36:25+00:00   \n",
       "1  2020-03-25 06:35:29+00:00   \n",
       "2  2020-03-25 06:15:49+00:00   \n",
       "3  2020-03-25 06:12:38+00:00   \n",
       "4  2020-03-25 06:32:38+00:00   \n",
       "\n",
       "                                       SentimentText  Sentiment  \\\n",
       "0  $DG #Dollar General #Options #maxpain Chart, O...        1.0   \n",
       "1  That amazing feeling when you finally close a ...        1.0   \n",
       "2  From OHM to SHIB: 5 Most Impressive Altcoins o...        1.0   \n",
       "3  https://t.co/8gINJWxBxN #Finance #StockMarket ...        1.0   \n",
       "4  TP HITS 1814???????ø\\n\\nTo get daily signals l...        1.0   \n",
       "\n",
       "                                              tokens  \n",
       "0  [$, dg, general, chart, ,, open, interest, cha...  \n",
       "1  [that, amazing, feeling, when, you, finally, c...  \n",
       "2  [from, ohm, to, shib, :, 5, most, impressive, ...  \n",
       "3  [$, avct, $, bjdx, market, down, after, 1, day...  \n",
       "4  [tp, hits, 1814, ?, ?, ?, ø, to, get, daily, s...  "
      ]
     },
     "execution_count": 6,
     "metadata": {},
     "output_type": "execute_result"
    }
   ],
   "source": [
    "def postprocess(data):\n",
    "    data['tokens'] = data['SentimentText'].progress_map(tokenize)  ## progress_map is a variant of the map function plus a progress bar. Handy to monitor DataFrame creations.\n",
    "    data = data[data.tokens != 'NC']\n",
    "    data.reset_index(inplace=True)\n",
    "    data.drop('index', inplace=True, axis=1)\n",
    "    return data\n",
    "\n",
    "data = postprocess(data)\n",
    "data.head()"
   ]
  },
  {
   "cell_type": "markdown",
   "metadata": {},
   "source": [
    "# Labelise Data"
   ]
  },
  {
   "cell_type": "code",
   "execution_count": 7,
   "metadata": {},
   "outputs": [],
   "source": [
    "LabeledSentence = gensim.models.doc2vec.TaggedDocument # we'll talk about this down below\n",
    "\n",
    "def labelizeTweets(tweets, label_type):\n",
    "    labelized = []\n",
    "    for i,v in tqdm(enumerate(tweets)):\n",
    "        label = '%s_%s'%(label_type,i)\n",
    "        labelized.append(LabeledSentence(v, [label]))\n",
    "    return labelized"
   ]
  },
  {
   "cell_type": "code",
   "execution_count": 8,
   "metadata": {
    "scrolled": true
   },
   "outputs": [],
   "source": [
    "#Splitting for training and testing\n",
    "x_train, x_test, y_train, y_test = train_test_split(np.array(data.head(8000).tokens),\n",
    "                                                    np.array(data.head(8000).Sentiment), test_size=0.2)\n"
   ]
  },
  {
   "cell_type": "code",
   "execution_count": 9,
   "metadata": {},
   "outputs": [
    {
     "name": "stderr",
     "output_type": "stream",
     "text": [
      "6400it [00:00, 37802.70it/s]\n",
      "1600it [00:00, ?it/s]\n"
     ]
    }
   ],
   "source": [
    "x_train = labelizeTweets(x_train, 'TRAIN')\n",
    "x_test = labelizeTweets(x_test, 'TEST') "
   ]
  },
  {
   "cell_type": "code",
   "execution_count": 10,
   "metadata": {
    "scrolled": true
   },
   "outputs": [
    {
     "name": "stderr",
     "output_type": "stream",
     "text": [
      "8008it [00:00, 366609.03it/s]\n"
     ]
    }
   ],
   "source": [
    "data_labellised= labelizeTweets(np.array(data.tokens), 'data')"
   ]
  },
  {
   "cell_type": "markdown",
   "metadata": {},
   "source": [
    "# Builidng word2vec vocabulary and training"
   ]
  },
  {
   "cell_type": "code",
   "execution_count": 11,
   "metadata": {
    "scrolled": true
   },
   "outputs": [
    {
     "name": "stderr",
     "output_type": "stream",
     "text": [
      "100%|██████████████████████████████████████████████████████████████████████████████████████| 8008/8008 [00:00<?, ?it/s]\n"
     ]
    }
   ],
   "source": [
    "n=5000\n",
    "n_dim = 200\n",
    "tweet_w2v = Word2Vec(vector_size=200, min_count=10)\n",
    "tweet_w2v.build_vocab([x.words for x in tqdm(data_labellised)])"
   ]
  },
  {
   "cell_type": "code",
   "execution_count": 12,
   "metadata": {
    "scrolled": false
   },
   "outputs": [
    {
     "name": "stderr",
     "output_type": "stream",
     "text": [
      "100%|██████████████████████████████████████████████████████████████████████████| 8008/8008 [00:00<00:00, 512519.82it/s]\n"
     ]
    },
    {
     "data": {
      "text/plain": [
       "(667601, 1106010)"
      ]
     },
     "execution_count": 12,
     "metadata": {},
     "output_type": "execute_result"
    }
   ],
   "source": [
    "tweet_w2v.train([x.words for x in tqdm(data_labellised)],total_examples=tweet_w2v.corpus_count, epochs=tweet_w2v.epochs) "
   ]
  },
  {
   "cell_type": "code",
   "execution_count": 13,
   "metadata": {},
   "outputs": [],
   "source": [
    "#Save the w2v model\n",
    "tweet_w2v.save('w2vmodel')\n",
    "#Load the w2v model\n",
    "new_w2vmodel = gensim.models.Word2Vec.load('w2vmodel')"
   ]
  },
  {
   "cell_type": "code",
   "execution_count": 14,
   "metadata": {
    "scrolled": true
   },
   "outputs": [
    {
     "data": {
      "text/plain": [
       "415"
      ]
     },
     "execution_count": 14,
     "metadata": {},
     "output_type": "execute_result"
    }
   ],
   "source": [
    "#convert any word(present in vocabulary) to vector.\n",
    "tweet_w2v.wv.key_to_index['happy']"
   ]
  },
  {
   "cell_type": "code",
   "execution_count": 15,
   "metadata": {
    "scrolled": true
   },
   "outputs": [
    {
     "data": {
      "text/plain": [
       "[('ship', 0.9468527436256409),\n",
       " ('wonderful', 0.9378995299339294),\n",
       " ('soon', 0.9376754760742188),\n",
       " ('pick', 0.9323378801345825),\n",
       " ('super', 0.9287994503974915),\n",
       " ('strategy', 0.9198437929153442),\n",
       " ('serve', 0.9156471490859985),\n",
       " ('god', 0.9155476689338684),\n",
       " ('guys', 0.9145596623420715),\n",
       " ('going', 0.9136531352996826)]"
      ]
     },
     "execution_count": 15,
     "metadata": {},
     "output_type": "execute_result"
    }
   ],
   "source": [
    "#Find similar words\n",
    "tweet_w2v.wv.most_similar('happy')"
   ]
  },
  {
   "cell_type": "markdown",
   "metadata": {},
   "source": [
    "# TF-IDF matrix of data"
   ]
  },
  {
   "cell_type": "code",
   "execution_count": 16,
   "metadata": {
    "scrolled": true
   },
   "outputs": [
    {
     "name": "stdout",
     "output_type": "stream",
     "text": [
      "building tf-idf matrix ...\n",
      "vocab size : 1761\n"
     ]
    }
   ],
   "source": [
    "print ('building tf-idf matrix ...')\n",
    "vectorizer = TfidfVectorizer(analyzer=lambda x: x, min_df=10)\n",
    "matrix = vectorizer.fit_transform([x.words for x in data_labellised])\n",
    "tfidf = dict(zip(vectorizer.get_feature_names(), vectorizer.idf_))\n",
    "print ('vocab size :', len(tfidf))"
   ]
  },
  {
   "cell_type": "code",
   "execution_count": 17,
   "metadata": {},
   "outputs": [],
   "source": [
    "#Save the tfidf \n",
    "# with open(\"tfidfdict.txt\", \"wb\") as myFile:\n",
    "#     pickle.dump(tfidf, myFile)\n",
    "# with open(\"tfidfdict.txt\", \"rb\") as myFile:\n",
    "#     tfidf = pickle.load(myFile)\n"
   ]
  },
  {
   "cell_type": "markdown",
   "metadata": {},
   "source": [
    "# Build tweet vector to give input to FeedForward Neural Network"
   ]
  },
  {
   "cell_type": "code",
   "execution_count": 18,
   "metadata": {},
   "outputs": [],
   "source": [
    "def buildWordVector(tokens, vector_size):\n",
    "    vec = np.zeros(vector_size).reshape((1, vector_size))\n",
    "    count = 0.\n",
    "    for word in tokens:\n",
    "        try:\n",
    "            vec += tweet_w2v.wv[word].reshape((1, vector_size)) * tfidf[word] #combining w2v vectors with tfidf value of words in the tweet.\n",
    "            count += 1.\n",
    "        except KeyError: # handling the case where the token is not vec += model_w2v.wv[word].reshape((1, size))\n",
    "                         # in the corpus. useful for testing.\n",
    "            continue\n",
    "    if count != 0:\n",
    "        vec /= count\n",
    "    return vec"
   ]
  },
  {
   "cell_type": "code",
   "execution_count": 19,
   "metadata": {
    "scrolled": true
   },
   "outputs": [
    {
     "name": "stderr",
     "output_type": "stream",
     "text": [
      "6400it [00:03, 1985.03it/s]\n",
      "1600it [00:00, 2034.29it/s]\n"
     ]
    }
   ],
   "source": [
    "train_vecs_w2v = np.concatenate([buildWordVector(z, n_dim) for z in tqdm(map(lambda x: x.words, x_train))])\n",
    "train_vecs_w2v = scale(train_vecs_w2v)\n",
    "\n",
    "test_vecs_w2v = np.concatenate([buildWordVector(z, n_dim) for z in tqdm(map(lambda x: x.words, x_test))])\n",
    "test_vecs_w2v = scale(test_vecs_w2v)"
   ]
  },
  {
   "cell_type": "markdown",
   "metadata": {},
   "source": [
    "# Training 3 layered FFNN"
   ]
  },
  {
   "cell_type": "code",
   "execution_count": 20,
   "metadata": {
    "scrolled": true
   },
   "outputs": [
    {
     "name": "stdout",
     "output_type": "stream",
     "text": [
      "Epoch 1/100\n",
      "11/11 - 1s - loss: 0.5138 - accuracy: 0.8136 - 1s/epoch - 107ms/step\n",
      "Epoch 2/100\n",
      "11/11 - 0s - loss: 0.3785 - accuracy: 0.8647 - 62ms/epoch - 6ms/step\n",
      "Epoch 3/100\n",
      "11/11 - 0s - loss: 0.3531 - accuracy: 0.8661 - 38ms/epoch - 3ms/step\n",
      "Epoch 4/100\n",
      "11/11 - 0s - loss: 0.3445 - accuracy: 0.8666 - 31ms/epoch - 3ms/step\n",
      "Epoch 5/100\n",
      "11/11 - 0s - loss: 0.3389 - accuracy: 0.8666 - 38ms/epoch - 3ms/step\n",
      "Epoch 6/100\n",
      "11/11 - 0s - loss: 0.3354 - accuracy: 0.8664 - 31ms/epoch - 3ms/step\n",
      "Epoch 7/100\n",
      "11/11 - 0s - loss: 0.3308 - accuracy: 0.8669 - 53ms/epoch - 5ms/step\n",
      "Epoch 8/100\n",
      "11/11 - 0s - loss: 0.3270 - accuracy: 0.8673 - 47ms/epoch - 4ms/step\n",
      "Epoch 9/100\n",
      "11/11 - 0s - loss: 0.3242 - accuracy: 0.8666 - 53ms/epoch - 5ms/step\n",
      "Epoch 10/100\n",
      "11/11 - 0s - loss: 0.3216 - accuracy: 0.8669 - 47ms/epoch - 4ms/step\n",
      "Epoch 11/100\n",
      "11/11 - 0s - loss: 0.3193 - accuracy: 0.8675 - 47ms/epoch - 4ms/step\n",
      "Epoch 12/100\n",
      "11/11 - 0s - loss: 0.3173 - accuracy: 0.8700 - 38ms/epoch - 3ms/step\n",
      "Epoch 13/100\n",
      "11/11 - 0s - loss: 0.3160 - accuracy: 0.8714 - 47ms/epoch - 4ms/step\n",
      "Epoch 14/100\n",
      "11/11 - 0s - loss: 0.3131 - accuracy: 0.8708 - 53ms/epoch - 5ms/step\n",
      "Epoch 15/100\n",
      "11/11 - 0s - loss: 0.3112 - accuracy: 0.8711 - 31ms/epoch - 3ms/step\n",
      "Epoch 16/100\n",
      "11/11 - 0s - loss: 0.3106 - accuracy: 0.8723 - 38ms/epoch - 3ms/step\n",
      "Epoch 17/100\n",
      "11/11 - 0s - loss: 0.3078 - accuracy: 0.8719 - 31ms/epoch - 3ms/step\n",
      "Epoch 18/100\n",
      "11/11 - 0s - loss: 0.3070 - accuracy: 0.8725 - 38ms/epoch - 3ms/step\n",
      "Epoch 19/100\n",
      "11/11 - 0s - loss: 0.3061 - accuracy: 0.8731 - 31ms/epoch - 3ms/step\n",
      "Epoch 20/100\n",
      "11/11 - 0s - loss: 0.3045 - accuracy: 0.8733 - 47ms/epoch - 4ms/step\n",
      "Epoch 21/100\n",
      "11/11 - 0s - loss: 0.3030 - accuracy: 0.8733 - 38ms/epoch - 3ms/step\n",
      "Epoch 22/100\n",
      "11/11 - 0s - loss: 0.3021 - accuracy: 0.8723 - 31ms/epoch - 3ms/step\n",
      "Epoch 23/100\n",
      "11/11 - 0s - loss: 0.3003 - accuracy: 0.8742 - 31ms/epoch - 3ms/step\n",
      "Epoch 24/100\n",
      "11/11 - 0s - loss: 0.3007 - accuracy: 0.8731 - 38ms/epoch - 3ms/step\n",
      "Epoch 25/100\n",
      "11/11 - 0s - loss: 0.2984 - accuracy: 0.8737 - 31ms/epoch - 3ms/step\n",
      "Epoch 26/100\n",
      "11/11 - 0s - loss: 0.2977 - accuracy: 0.8733 - 38ms/epoch - 3ms/step\n",
      "Epoch 27/100\n",
      "11/11 - 0s - loss: 0.2964 - accuracy: 0.8742 - 31ms/epoch - 3ms/step\n",
      "Epoch 28/100\n",
      "11/11 - 0s - loss: 0.2953 - accuracy: 0.8736 - 31ms/epoch - 3ms/step\n",
      "Epoch 29/100\n",
      "11/11 - 0s - loss: 0.2953 - accuracy: 0.8752 - 22ms/epoch - 2ms/step\n",
      "Epoch 30/100\n",
      "11/11 - 0s - loss: 0.2927 - accuracy: 0.8753 - 31ms/epoch - 3ms/step\n",
      "Epoch 31/100\n",
      "11/11 - 0s - loss: 0.2937 - accuracy: 0.8747 - 53ms/epoch - 5ms/step\n",
      "Epoch 32/100\n",
      "11/11 - 0s - loss: 0.2914 - accuracy: 0.8764 - 31ms/epoch - 3ms/step\n",
      "Epoch 33/100\n",
      "11/11 - 0s - loss: 0.2902 - accuracy: 0.8767 - 31ms/epoch - 3ms/step\n",
      "Epoch 34/100\n",
      "11/11 - 0s - loss: 0.2890 - accuracy: 0.8769 - 38ms/epoch - 3ms/step\n",
      "Epoch 35/100\n",
      "11/11 - 0s - loss: 0.2882 - accuracy: 0.8781 - 31ms/epoch - 3ms/step\n",
      "Epoch 36/100\n",
      "11/11 - 0s - loss: 0.2875 - accuracy: 0.8788 - 38ms/epoch - 3ms/step\n",
      "Epoch 37/100\n",
      "11/11 - 0s - loss: 0.2862 - accuracy: 0.8783 - 47ms/epoch - 4ms/step\n",
      "Epoch 38/100\n",
      "11/11 - 0s - loss: 0.2851 - accuracy: 0.8795 - 47ms/epoch - 4ms/step\n",
      "Epoch 39/100\n",
      "11/11 - 0s - loss: 0.2842 - accuracy: 0.8802 - 31ms/epoch - 3ms/step\n",
      "Epoch 40/100\n",
      "11/11 - 0s - loss: 0.2846 - accuracy: 0.8800 - 47ms/epoch - 4ms/step\n",
      "Epoch 41/100\n",
      "11/11 - 0s - loss: 0.2820 - accuracy: 0.8795 - 53ms/epoch - 5ms/step\n",
      "Epoch 42/100\n",
      "11/11 - 0s - loss: 0.2827 - accuracy: 0.8797 - 31ms/epoch - 3ms/step\n",
      "Epoch 43/100\n",
      "11/11 - 0s - loss: 0.2806 - accuracy: 0.8795 - 38ms/epoch - 3ms/step\n",
      "Epoch 44/100\n",
      "11/11 - 0s - loss: 0.2794 - accuracy: 0.8792 - 31ms/epoch - 3ms/step\n",
      "Epoch 45/100\n",
      "11/11 - 0s - loss: 0.2794 - accuracy: 0.8802 - 53ms/epoch - 5ms/step\n",
      "Epoch 46/100\n",
      "11/11 - 0s - loss: 0.2792 - accuracy: 0.8800 - 31ms/epoch - 3ms/step\n",
      "Epoch 47/100\n",
      "11/11 - 0s - loss: 0.2776 - accuracy: 0.8811 - 31ms/epoch - 3ms/step\n",
      "Epoch 48/100\n",
      "11/11 - 0s - loss: 0.2768 - accuracy: 0.8803 - 38ms/epoch - 3ms/step\n",
      "Epoch 49/100\n",
      "11/11 - 0s - loss: 0.2765 - accuracy: 0.8819 - 47ms/epoch - 4ms/step\n",
      "Epoch 50/100\n",
      "11/11 - 0s - loss: 0.2754 - accuracy: 0.8828 - 38ms/epoch - 3ms/step\n",
      "Epoch 51/100\n",
      "11/11 - 0s - loss: 0.2754 - accuracy: 0.8830 - 47ms/epoch - 4ms/step\n",
      "Epoch 52/100\n",
      "11/11 - 0s - loss: 0.2751 - accuracy: 0.8814 - 47ms/epoch - 4ms/step\n",
      "Epoch 53/100\n",
      "11/11 - 0s - loss: 0.2731 - accuracy: 0.8806 - 31ms/epoch - 3ms/step\n",
      "Epoch 54/100\n",
      "11/11 - 0s - loss: 0.2724 - accuracy: 0.8814 - 47ms/epoch - 4ms/step\n",
      "Epoch 55/100\n",
      "11/11 - 0s - loss: 0.2719 - accuracy: 0.8834 - 38ms/epoch - 3ms/step\n",
      "Epoch 56/100\n",
      "11/11 - 0s - loss: 0.2717 - accuracy: 0.8842 - 31ms/epoch - 3ms/step\n",
      "Epoch 57/100\n",
      "11/11 - 0s - loss: 0.2704 - accuracy: 0.8830 - 38ms/epoch - 3ms/step\n",
      "Epoch 58/100\n",
      "11/11 - 0s - loss: 0.2699 - accuracy: 0.8833 - 47ms/epoch - 4ms/step\n",
      "Epoch 59/100\n",
      "11/11 - 0s - loss: 0.2733 - accuracy: 0.8827 - 31ms/epoch - 3ms/step\n",
      "Epoch 60/100\n",
      "11/11 - 0s - loss: 0.2677 - accuracy: 0.8848 - 53ms/epoch - 5ms/step\n",
      "Epoch 61/100\n",
      "11/11 - 0s - loss: 0.2678 - accuracy: 0.8848 - 31ms/epoch - 3ms/step\n",
      "Epoch 62/100\n",
      "11/11 - 0s - loss: 0.2674 - accuracy: 0.8820 - 38ms/epoch - 3ms/step\n",
      "Epoch 63/100\n",
      "11/11 - 0s - loss: 0.2665 - accuracy: 0.8842 - 31ms/epoch - 3ms/step\n",
      "Epoch 64/100\n",
      "11/11 - 0s - loss: 0.2648 - accuracy: 0.8856 - 47ms/epoch - 4ms/step\n",
      "Epoch 65/100\n",
      "11/11 - 0s - loss: 0.2653 - accuracy: 0.8844 - 31ms/epoch - 3ms/step\n",
      "Epoch 66/100\n",
      "11/11 - 0s - loss: 0.2647 - accuracy: 0.8864 - 47ms/epoch - 4ms/step\n",
      "Epoch 67/100\n",
      "11/11 - 0s - loss: 0.2654 - accuracy: 0.8864 - 53ms/epoch - 5ms/step\n",
      "Epoch 68/100\n",
      "11/11 - 0s - loss: 0.2633 - accuracy: 0.8856 - 47ms/epoch - 4ms/step\n",
      "Epoch 69/100\n",
      "11/11 - 0s - loss: 0.2634 - accuracy: 0.8872 - 38ms/epoch - 3ms/step\n",
      "Epoch 70/100\n",
      "11/11 - 0s - loss: 0.2636 - accuracy: 0.8873 - 47ms/epoch - 4ms/step\n",
      "Epoch 71/100\n",
      "11/11 - 0s - loss: 0.2605 - accuracy: 0.8875 - 53ms/epoch - 5ms/step\n",
      "Epoch 72/100\n",
      "11/11 - 0s - loss: 0.2609 - accuracy: 0.8864 - 31ms/epoch - 3ms/step\n",
      "Epoch 73/100\n",
      "11/11 - 0s - loss: 0.2590 - accuracy: 0.8877 - 38ms/epoch - 3ms/step\n",
      "Epoch 74/100\n",
      "11/11 - 0s - loss: 0.2621 - accuracy: 0.8877 - 31ms/epoch - 3ms/step\n",
      "Epoch 75/100\n",
      "11/11 - 0s - loss: 0.2583 - accuracy: 0.8883 - 47ms/epoch - 4ms/step\n",
      "Epoch 76/100\n",
      "11/11 - 0s - loss: 0.2595 - accuracy: 0.8880 - 38ms/epoch - 3ms/step\n",
      "Epoch 77/100\n",
      "11/11 - 0s - loss: 0.2586 - accuracy: 0.8881 - 31ms/epoch - 3ms/step\n",
      "Epoch 78/100\n",
      "11/11 - 0s - loss: 0.2569 - accuracy: 0.8884 - 53ms/epoch - 5ms/step\n",
      "Epoch 79/100\n",
      "11/11 - 0s - loss: 0.2574 - accuracy: 0.8902 - 31ms/epoch - 3ms/step\n",
      "Epoch 80/100\n",
      "11/11 - 0s - loss: 0.2543 - accuracy: 0.8894 - 47ms/epoch - 4ms/step\n",
      "Epoch 81/100\n",
      "11/11 - 0s - loss: 0.2559 - accuracy: 0.8892 - 31ms/epoch - 3ms/step\n",
      "Epoch 82/100\n",
      "11/11 - 0s - loss: 0.2539 - accuracy: 0.8911 - 47ms/epoch - 4ms/step\n",
      "Epoch 83/100\n",
      "11/11 - 0s - loss: 0.2543 - accuracy: 0.8909 - 38ms/epoch - 3ms/step\n",
      "Epoch 84/100\n",
      "11/11 - 0s - loss: 0.2536 - accuracy: 0.8920 - 47ms/epoch - 4ms/step\n",
      "Epoch 85/100\n",
      "11/11 - 0s - loss: 0.2525 - accuracy: 0.8917 - 38ms/epoch - 3ms/step\n",
      "Epoch 86/100\n",
      "11/11 - 0s - loss: 0.2508 - accuracy: 0.8922 - 47ms/epoch - 4ms/step\n",
      "Epoch 87/100\n",
      "11/11 - 0s - loss: 0.2527 - accuracy: 0.8905 - 31ms/epoch - 3ms/step\n",
      "Epoch 88/100\n",
      "11/11 - 0s - loss: 0.2505 - accuracy: 0.8920 - 38ms/epoch - 3ms/step\n",
      "Epoch 89/100\n",
      "11/11 - 0s - loss: 0.2517 - accuracy: 0.8913 - 31ms/epoch - 3ms/step\n",
      "Epoch 90/100\n",
      "11/11 - 0s - loss: 0.2507 - accuracy: 0.8920 - 38ms/epoch - 3ms/step\n",
      "Epoch 91/100\n",
      "11/11 - 0s - loss: 0.2473 - accuracy: 0.8947 - 47ms/epoch - 4ms/step\n",
      "Epoch 92/100\n",
      "11/11 - 0s - loss: 0.2496 - accuracy: 0.8927 - 47ms/epoch - 4ms/step\n",
      "Epoch 93/100\n",
      "11/11 - 0s - loss: 0.2464 - accuracy: 0.8930 - 38ms/epoch - 3ms/step\n",
      "Epoch 94/100\n",
      "11/11 - 0s - loss: 0.2474 - accuracy: 0.8923 - 31ms/epoch - 3ms/step\n",
      "Epoch 95/100\n",
      "11/11 - 0s - loss: 0.2474 - accuracy: 0.8925 - 53ms/epoch - 5ms/step\n",
      "Epoch 96/100\n",
      "11/11 - 0s - loss: 0.2442 - accuracy: 0.8911 - 47ms/epoch - 4ms/step\n",
      "Epoch 97/100\n",
      "11/11 - 0s - loss: 0.2472 - accuracy: 0.8930 - 53ms/epoch - 5ms/step\n",
      "Epoch 98/100\n",
      "11/11 - 0s - loss: 0.2452 - accuracy: 0.8928 - 47ms/epoch - 4ms/step\n",
      "Epoch 99/100\n",
      "11/11 - 0s - loss: 0.2430 - accuracy: 0.8939 - 38ms/epoch - 3ms/step\n",
      "Epoch 100/100\n",
      "11/11 - 0s - loss: 0.2445 - accuracy: 0.8913 - 31ms/epoch - 3ms/step\n"
     ]
    },
    {
     "data": {
      "text/plain": [
       "<keras.callbacks.History at 0x19ffe7f6730>"
      ]
     },
     "execution_count": 20,
     "metadata": {},
     "output_type": "execute_result"
    }
   ],
   "source": [
    "model = Sequential()\n",
    "model.add(Dense(32, activation='relu', input_dim=200))\n",
    "model.add(Dense(16, activation='relu'))\n",
    "model.add(Dense(8, activation='relu'))\n",
    "model.add(Dense(1, activation='sigmoid'))\n",
    "model.compile(optimizer='rmsprop',\n",
    "              loss='binary_crossentropy',\n",
    "              metrics=['accuracy'])\n",
    "\n",
    "model.fit(train_vecs_w2v, y_train, epochs=100, batch_size=600, verbose=2)"
   ]
  },
  {
   "cell_type": "code",
   "execution_count": 21,
   "metadata": {},
   "outputs": [
    {
     "name": "stdout",
     "output_type": "stream",
     "text": [
      "2/2 - 0s - loss: 0.3113 - accuracy: 0.8737 - 232ms/epoch - 116ms/step\n",
      "loss :  0.31129220128059387 \n",
      " accuracy :  0.8737499713897705\n"
     ]
    }
   ],
   "source": [
    "# Evaluating accuracy score\n",
    "score = model.evaluate(test_vecs_w2v, y_test, batch_size=800, verbose=2)\n",
    "print(model.metrics_names[0],\": \",score[0],\"\\n\",model.metrics_names[1],\": \",score[1])"
   ]
  },
  {
   "cell_type": "code",
   "execution_count": null,
   "metadata": {},
   "outputs": [],
   "source": []
  }
 ],
 "metadata": {
  "kernelspec": {
   "display_name": "Python 3",
   "language": "python",
   "name": "python3"
  },
  "language_info": {
   "codemirror_mode": {
    "name": "ipython",
    "version": 3
   },
   "file_extension": ".py",
   "mimetype": "text/x-python",
   "name": "python",
   "nbconvert_exporter": "python",
   "pygments_lexer": "ipython3",
   "version": "3.8.5"
  }
 },
 "nbformat": 4,
 "nbformat_minor": 2
}
