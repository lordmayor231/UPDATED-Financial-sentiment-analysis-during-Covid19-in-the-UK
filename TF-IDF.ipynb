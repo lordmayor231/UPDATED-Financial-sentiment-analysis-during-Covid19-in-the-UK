{
 "cells": [
  {
   "cell_type": "markdown",
   "metadata": {},
   "source": [
    "# IMPORTING VARIOUS LIBRARIES TF-IDF"
   ]
  },
  {
   "cell_type": "code",
   "execution_count": 1,
   "metadata": {},
   "outputs": [],
   "source": [
    "import numpy as np \n",
    "import pandas as pd \n",
    "import re  \n",
    "import nltk  \n",
    "from nltk.corpus import stopwords \n",
    "import matplotlib.pyplot as plt\n",
    "\n"
   ]
  },
  {
   "cell_type": "markdown",
   "metadata": {},
   "source": [
    "# LOADING DATASET"
   ]
  },
  {
   "cell_type": "code",
   "execution_count": 2,
   "metadata": {},
   "outputs": [
    {
     "data": {
      "text/html": [
       "<div>\n",
       "<style scoped>\n",
       "    .dataframe tbody tr th:only-of-type {\n",
       "        vertical-align: middle;\n",
       "    }\n",
       "\n",
       "    .dataframe tbody tr th {\n",
       "        vertical-align: top;\n",
       "    }\n",
       "\n",
       "    .dataframe thead th {\n",
       "        text-align: right;\n",
       "    }\n",
       "</style>\n",
       "<table border=\"1\" class=\"dataframe\">\n",
       "  <thead>\n",
       "    <tr style=\"text-align: right;\">\n",
       "      <th></th>\n",
       "      <th>Datetime</th>\n",
       "      <th>user_name</th>\n",
       "      <th>user_location</th>\n",
       "      <th>user_description</th>\n",
       "      <th>tweet</th>\n",
       "      <th>sentiment</th>\n",
       "    </tr>\n",
       "  </thead>\n",
       "  <tbody>\n",
       "    <tr>\n",
       "      <th>0</th>\n",
       "      <td>2020-03-25 06:36:25+00:00</td>\n",
       "      <td>TickWatcher</td>\n",
       "      <td>California, USA</td>\n",
       "      <td>Update for stock earnings, dividend, money flo...</td>\n",
       "      <td>$DG #Dollar General #Options #maxpain Chart, O...</td>\n",
       "      <td>Positive</td>\n",
       "    </tr>\n",
       "    <tr>\n",
       "      <th>1</th>\n",
       "      <td>2020-03-25 06:18:32+00:00</td>\n",
       "      <td>Vista Partners LLC</td>\n",
       "      <td>San Francisco, CA</td>\n",
       "      <td>CA Registered Investment Advisor, Publishes FR...</td>\n",
       "      <td>“Education is not only a ladder of opportunity...</td>\n",
       "      <td>Neutral</td>\n",
       "    </tr>\n",
       "    <tr>\n",
       "      <th>2</th>\n",
       "      <td>2020-03-25 06:05:46+00:00</td>\n",
       "      <td>Capt. Investo</td>\n",
       "      <td>St Petersburg, FL</td>\n",
       "      <td>“The quickest way to double your money is to f...</td>\n",
       "      <td>$GCLT news coming soon #fintech #finance https...</td>\n",
       "      <td>Neutral</td>\n",
       "    </tr>\n",
       "    <tr>\n",
       "      <th>3</th>\n",
       "      <td>2020-03-25 06:35:29+00:00</td>\n",
       "      <td>FFL Tribe</td>\n",
       "      <td>Austin, TX</td>\n",
       "      <td>The Tribe - Family First Life agents on a miss...</td>\n",
       "      <td>That amazing feeling when you finally close a ...</td>\n",
       "      <td>Positive</td>\n",
       "    </tr>\n",
       "    <tr>\n",
       "      <th>4</th>\n",
       "      <td>2020-03-25 06:15:49+00:00</td>\n",
       "      <td>inter_mkt</td>\n",
       "      <td>France</td>\n",
       "      <td>cbpassiveincomes #trading #forex #bitcoin #tra...</td>\n",
       "      <td>From OHM to SHIB: 5 Most Impressive Altcoins o...</td>\n",
       "      <td>Positive</td>\n",
       "    </tr>\n",
       "  </tbody>\n",
       "</table>\n",
       "</div>"
      ],
      "text/plain": [
       "                    Datetime           user_name      user_location  \\\n",
       "0  2020-03-25 06:36:25+00:00         TickWatcher    California, USA   \n",
       "1  2020-03-25 06:18:32+00:00  Vista Partners LLC  San Francisco, CA   \n",
       "2  2020-03-25 06:05:46+00:00       Capt. Investo  St Petersburg, FL   \n",
       "3  2020-03-25 06:35:29+00:00           FFL Tribe         Austin, TX   \n",
       "4  2020-03-25 06:15:49+00:00           inter_mkt             France   \n",
       "\n",
       "                                    user_description  \\\n",
       "0  Update for stock earnings, dividend, money flo...   \n",
       "1  CA Registered Investment Advisor, Publishes FR...   \n",
       "2  “The quickest way to double your money is to f...   \n",
       "3  The Tribe - Family First Life agents on a miss...   \n",
       "4  cbpassiveincomes #trading #forex #bitcoin #tra...   \n",
       "\n",
       "                                               tweet sentiment  \n",
       "0  $DG #Dollar General #Options #maxpain Chart, O...  Positive  \n",
       "1  “Education is not only a ladder of opportunity...   Neutral  \n",
       "2  $GCLT news coming soon #fintech #finance https...   Neutral  \n",
       "3  That amazing feeling when you finally close a ...  Positive  \n",
       "4  From OHM to SHIB: 5 Most Impressive Altcoins o...  Positive  "
      ]
     },
     "execution_count": 2,
     "metadata": {},
     "output_type": "execute_result"
    }
   ],
   "source": [
    "tweets = pd.read_csv(\"dataset2.csv\")\n",
    "\n",
    "tweets.head()"
   ]
  },
  {
   "cell_type": "markdown",
   "metadata": {},
   "source": [
    "# CHECKING THE SHAPE OF TWEET AND REMOVING NAN VALUE"
   ]
  },
  {
   "cell_type": "code",
   "execution_count": 3,
   "metadata": {},
   "outputs": [
    {
     "data": {
      "text/plain": [
       "(12524, 6)"
      ]
     },
     "execution_count": 3,
     "metadata": {},
     "output_type": "execute_result"
    }
   ],
   "source": [
    "tweets.dropna(inplace = True)\n",
    "tweets.shape"
   ]
  },
  {
   "cell_type": "code",
   "execution_count": 4,
   "metadata": {},
   "outputs": [],
   "source": [
    "%matplotlib inline\n"
   ]
  },
  {
   "cell_type": "code",
   "execution_count": 5,
   "metadata": {},
   "outputs": [
    {
     "data": {
      "text/html": [
       "<div>\n",
       "<style scoped>\n",
       "    .dataframe tbody tr th:only-of-type {\n",
       "        vertical-align: middle;\n",
       "    }\n",
       "\n",
       "    .dataframe tbody tr th {\n",
       "        vertical-align: top;\n",
       "    }\n",
       "\n",
       "    .dataframe thead th {\n",
       "        text-align: right;\n",
       "    }\n",
       "</style>\n",
       "<table border=\"1\" class=\"dataframe\">\n",
       "  <thead>\n",
       "    <tr style=\"text-align: right;\">\n",
       "      <th></th>\n",
       "      <th>Datetime</th>\n",
       "      <th>user_name</th>\n",
       "      <th>user_location</th>\n",
       "      <th>user_description</th>\n",
       "      <th>tweet</th>\n",
       "      <th>sentiment</th>\n",
       "    </tr>\n",
       "  </thead>\n",
       "  <tbody>\n",
       "    <tr>\n",
       "      <th>0</th>\n",
       "      <td>2020-03-25 06:36:25+00:00</td>\n",
       "      <td>TickWatcher</td>\n",
       "      <td>California, USA</td>\n",
       "      <td>Update for stock earnings, dividend, money flo...</td>\n",
       "      <td>$DG #Dollar General #Options #maxpain Chart, O...</td>\n",
       "      <td>Positive</td>\n",
       "    </tr>\n",
       "    <tr>\n",
       "      <th>1</th>\n",
       "      <td>2020-03-25 06:18:32+00:00</td>\n",
       "      <td>Vista Partners LLC</td>\n",
       "      <td>San Francisco, CA</td>\n",
       "      <td>CA Registered Investment Advisor, Publishes FR...</td>\n",
       "      <td>“Education is not only a ladder of opportunity...</td>\n",
       "      <td>Neutral</td>\n",
       "    </tr>\n",
       "    <tr>\n",
       "      <th>2</th>\n",
       "      <td>2020-03-25 06:05:46+00:00</td>\n",
       "      <td>Capt. Investo</td>\n",
       "      <td>St Petersburg, FL</td>\n",
       "      <td>“The quickest way to double your money is to f...</td>\n",
       "      <td>$GCLT news coming soon #fintech #finance https...</td>\n",
       "      <td>Neutral</td>\n",
       "    </tr>\n",
       "    <tr>\n",
       "      <th>3</th>\n",
       "      <td>2020-03-25 06:35:29+00:00</td>\n",
       "      <td>FFL Tribe</td>\n",
       "      <td>Austin, TX</td>\n",
       "      <td>The Tribe - Family First Life agents on a miss...</td>\n",
       "      <td>That amazing feeling when you finally close a ...</td>\n",
       "      <td>Positive</td>\n",
       "    </tr>\n",
       "    <tr>\n",
       "      <th>4</th>\n",
       "      <td>2020-03-25 06:15:49+00:00</td>\n",
       "      <td>inter_mkt</td>\n",
       "      <td>France</td>\n",
       "      <td>cbpassiveincomes #trading #forex #bitcoin #tra...</td>\n",
       "      <td>From OHM to SHIB: 5 Most Impressive Altcoins o...</td>\n",
       "      <td>Positive</td>\n",
       "    </tr>\n",
       "  </tbody>\n",
       "</table>\n",
       "</div>"
      ],
      "text/plain": [
       "                    Datetime           user_name      user_location  \\\n",
       "0  2020-03-25 06:36:25+00:00         TickWatcher    California, USA   \n",
       "1  2020-03-25 06:18:32+00:00  Vista Partners LLC  San Francisco, CA   \n",
       "2  2020-03-25 06:05:46+00:00       Capt. Investo  St Petersburg, FL   \n",
       "3  2020-03-25 06:35:29+00:00           FFL Tribe         Austin, TX   \n",
       "4  2020-03-25 06:15:49+00:00           inter_mkt             France   \n",
       "\n",
       "                                    user_description  \\\n",
       "0  Update for stock earnings, dividend, money flo...   \n",
       "1  CA Registered Investment Advisor, Publishes FR...   \n",
       "2  “The quickest way to double your money is to f...   \n",
       "3  The Tribe - Family First Life agents on a miss...   \n",
       "4  cbpassiveincomes #trading #forex #bitcoin #tra...   \n",
       "\n",
       "                                               tweet sentiment  \n",
       "0  $DG #Dollar General #Options #maxpain Chart, O...  Positive  \n",
       "1  “Education is not only a ladder of opportunity...   Neutral  \n",
       "2  $GCLT news coming soon #fintech #finance https...   Neutral  \n",
       "3  That amazing feeling when you finally close a ...  Positive  \n",
       "4  From OHM to SHIB: 5 Most Impressive Altcoins o...  Positive  "
      ]
     },
     "execution_count": 5,
     "metadata": {},
     "output_type": "execute_result"
    }
   ],
   "source": [
    "tweets.head()"
   ]
  },
  {
   "cell_type": "code",
   "execution_count": 6,
   "metadata": {},
   "outputs": [
    {
     "data": {
      "text/plain": [
       "<AxesSubplot:xlabel='sentiment', ylabel='count'>"
      ]
     },
     "execution_count": 6,
     "metadata": {},
     "output_type": "execute_result"
    },
    {
     "data": {
      "image/png": "[encoded data removed]",
      "text/plain": [
       "<Figure size 432x288 with 1 Axes>"
      ]
     },
     "metadata": {
      "needs_background": "light"
     },
     "output_type": "display_data"
    }
   ],
   "source": [
    "import seaborn as sns\n",
    "sns.countplot(x='sentiment', data=tweets)\n"
   ]
  },
  {
   "cell_type": "markdown",
   "metadata": {},
   "source": [
    "# DATA PROCESSING"
   ]
  },
  {
   "cell_type": "code",
   "execution_count": 7,
   "metadata": {},
   "outputs": [],
   "source": [
    "X = tweets.iloc[:, 4].values  \n",
    "y = tweets.iloc[:, 5].values\n"
   ]
  },
  {
   "cell_type": "code",
   "execution_count": 8,
   "metadata": {},
   "outputs": [],
   "source": [
    "processed_tweets = []\n",
    "\n",
    "for tweet in range(0, len(X)):  \n",
    "    # Remove all the special characters\n",
    "    processed_tweet = re.sub(r'\\W', ' ', str(X[tweet]))\n",
    "\n",
    "    # remove all single characters\n",
    "    processed_tweet = re.sub(r'\\s+[a-zA-Z]\\s+', ' ', processed_tweet)\n",
    "\n",
    "    # Remove single characters from the start\n",
    "    processed_tweet = re.sub(r'\\^[a-zA-Z]\\s+', ' ', processed_tweet) \n",
    "\n",
    "    # Substituting multiple spaces with single space\n",
    "    processed_tweet= re.sub(r'\\s+', ' ', processed_tweet, flags=re.I)\n",
    "\n",
    "    # Removing prefixed 'b'\n",
    "    processed_tweet = re.sub(r'^b\\s+', '', processed_tweet)\n",
    "\n",
    "    # Converting to Lowercase\n",
    "    processed_tweet = processed_tweet.lower()\n",
    "\n",
    "    processed_tweets.append(processed_tweet)\n"
   ]
  },
  {
   "cell_type": "markdown",
   "metadata": {},
   "source": [
    "# BAG OF WORDS AND TF-IDF Scheme for Text to Numeric Feature Generation"
   ]
  },
  {
   "cell_type": "code",
   "execution_count": 9,
   "metadata": {},
   "outputs": [],
   "source": [
    "from sklearn.feature_extraction.text import TfidfVectorizer  \n",
    "tfidfconverter = TfidfVectorizer(max_features=600, min_df=3, max_df=0.5, stop_words=stopwords.words('english'))\n",
    "X = np.nan_to_num(X)\n",
    "X = tfidfconverter.fit_transform(processed_tweets).toarray()\n",
    "\n"
   ]
  },
  {
   "cell_type": "markdown",
   "metadata": {},
   "source": [
    "# DIVIDING DATA INTO TRAINING AND TESTING"
   ]
  },
  {
   "cell_type": "code",
   "execution_count": 10,
   "metadata": {},
   "outputs": [],
   "source": [
    "from sklearn.model_selection import train_test_split  \n",
    "X_train, X_test, y_train, y_test = train_test_split(X, y, test_size=0.2, random_state=0)\n"
   ]
  },
  {
   "cell_type": "markdown",
   "metadata": {},
   "source": [
    "# Training and Evaluating the Text Classification Model"
   ]
  },
  {
   "cell_type": "code",
   "execution_count": 11,
   "metadata": {},
   "outputs": [
    {
     "data": {
      "text/plain": [
       "RandomForestClassifier(random_state=0)"
      ]
     },
     "execution_count": 11,
     "metadata": {},
     "output_type": "execute_result"
    }
   ],
   "source": [
    "from sklearn.ensemble import RandomForestClassifier\n",
    "text_classifier = RandomForestClassifier(n_estimators=100, random_state=0)  \n",
    "text_classifier.fit(X_train, y_train)\n"
   ]
  },
  {
   "cell_type": "code",
   "execution_count": 12,
   "metadata": {},
   "outputs": [],
   "source": [
    "predictions = text_classifier.predict(X_test)\n"
   ]
  },
  {
   "cell_type": "code",
   "execution_count": 13,
   "metadata": {},
   "outputs": [
    {
     "name": "stdout",
     "output_type": "stream",
     "text": [
      "\n",
      " Accuracy 0.7772455089820359\n",
      "[[ 100   88   91]\n",
      " [  13  755  158]\n",
      " [  11  197 1092]]\n",
      "              precision    recall  f1-score   support\n",
      "\n",
      "    Negative       0.81      0.36      0.50       279\n",
      "     Neutral       0.73      0.82      0.77       926\n",
      "    Positive       0.81      0.84      0.83      1300\n",
      "\n",
      "    accuracy                           0.78      2505\n",
      "   macro avg       0.78      0.67      0.70      2505\n",
      "weighted avg       0.78      0.78      0.77      2505\n",
      "\n"
     ]
    }
   ],
   "source": [
    "from sklearn.metrics import classification_report, confusion_matrix, accuracy_score\n",
    "print('\\n Accuracy', accuracy_score(y_test, predictions))\n",
    "print(confusion_matrix(y_test,predictions))  \n",
    "print(classification_report(y_test,predictions))  \n"
   ]
  },
  {
   "cell_type": "code",
   "execution_count": null,
   "metadata": {},
   "outputs": [],
   "source": []
  },
  {
   "cell_type": "code",
   "execution_count": null,
   "metadata": {},
   "outputs": [],
   "source": []
  },
  {
   "cell_type": "code",
   "execution_count": null,
   "metadata": {},
   "outputs": [],
   "source": []
  },
  {
   "cell_type": "code",
   "execution_count": null,
   "metadata": {},
   "outputs": [],
   "source": []
  },
  {
   "cell_type": "code",
   "execution_count": null,
   "metadata": {},
   "outputs": [],
   "source": []
  }
 ],
 "metadata": {
  "kernelspec": {
   "display_name": "Python 3",
   "language": "python",
   "name": "python3"
  },
  "language_info": {
   "codemirror_mode": {
    "name": "ipython",
    "version": 3
   },
   "file_extension": ".py",
   "mimetype": "text/x-python",
   "name": "python",
   "nbconvert_exporter": "python",
   "pygments_lexer": "ipython3",
   "version": "3.8.5"
  }
 },
 "nbformat": 4,
 "nbformat_minor": 5
}
