{
 "cells": [
  {
   "cell_type": "code",
   "execution_count": 1,
   "metadata": {},
   "outputs": [],
   "source": [
    "# Here we import all the various library we need\n",
    "\n",
    "import pandas as pd # data analysis and manipulation tool.\n",
    "import numpy as np #  multi-dimensional arrays and matrices.\n",
    "import re\n",
    "import matplotlib.pyplot as plt #  interactive plots and simple cases of programmatic plot generation.\n",
    "\n",
    "import keras # Keras is a deep learning API written in Python\n",
    "from keras.layers import Flatten # reshapes the tensor to have a shape that is equal to the number of elements contained in the tensor\n",
    "from keras.layers import Activation # used either for activation layers or augument.\n",
    "from keras.layers import Dense # regular densely-connected NN layer.\n",
    "from nltk.tokenize import TweetTokenizer # Tokenizers divide strings into lists of substrings.\n",
    "from keras.preprocessing import sequence # transforms a list of sequences into a 2D Numpy array of shape. \n",
    "from keras.models import Sequential # for a plain stack of layers where each layer has exactly one input tensor and one output tensor.\n",
    "from keras.layers import Dropout # randomly selected neurons are ignored during training\n",
    "from keras.layers import Embedding # Turns positive integers into dense vectors of fixed size.\n",
    "from keras.layers import LSTM  # Long Short-Term Memory layer\n",
    "from keras.layers import Conv1D, MaxPooling1D # 1D convolution layer\n",
    "from sklearn.feature_extraction.text import CountVectorizer # Convert a collection of text documents to a matrix of token counts\n",
    "from keras.preprocessing.sequence import pad_sequences # Pads sequences to the same length.\n",
    "from sklearn.model_selection import train_test_split # Split arrays or matrices into random train and test subsets.\n",
    "from keras.utils.np_utils import to_categorical # Converts a class vector (integers) to binary class matrix.\n",
    "from keras.callbacks import EarlyStopping # Stop training when a monitored metric has stopped improving.\n",
    "from keras.callbacks import ModelCheckpoint # Callback to save the Keras model or model weights at some frequency.\n",
    "from keras.models import model_from_json # Parses a JSON model configuration string and returns a model instance.\n",
    "from tensorflow.keras.optimizers import SGD # Gradient descent (with momentum) optimizer.\n",
    "from sklearn.metrics import confusion_matrix # Compute confusion matrix to evaluate the accuracy of a classification.\n",
    "from sklearn import metrics # Accuracy classification score.\n",
    "from keras.preprocessing.text import Tokenizer # Text tokenization utility class.\n",
    "import warnings # used to show warning message...\n",
    "warnings.filterwarnings('ignore') #The warnings filter controls.\n"
   ]
  },
  {
   "cell_type": "code",
   "execution_count": 2,
   "metadata": {},
   "outputs": [
    {
     "data": {
      "text/html": [
       "<div>\n",
       "<style scoped>\n",
       "    .dataframe tbody tr th:only-of-type {\n",
       "        vertical-align: middle;\n",
       "    }\n",
       "\n",
       "    .dataframe tbody tr th {\n",
       "        vertical-align: top;\n",
       "    }\n",
       "\n",
       "    .dataframe thead th {\n",
       "        text-align: right;\n",
       "    }\n",
       "</style>\n",
       "<table border=\"1\" class=\"dataframe\">\n",
       "  <thead>\n",
       "    <tr style=\"text-align: right;\">\n",
       "      <th></th>\n",
       "      <th>Datetime</th>\n",
       "      <th>tweet</th>\n",
       "      <th>Sentiment</th>\n",
       "    </tr>\n",
       "  </thead>\n",
       "  <tbody>\n",
       "    <tr>\n",
       "      <th>0</th>\n",
       "      <td>2020-03-25 06:36:25+00:00</td>\n",
       "      <td>$DG #Dollar General #Options #maxpain Chart, O...</td>\n",
       "      <td>1</td>\n",
       "    </tr>\n",
       "    <tr>\n",
       "      <th>1</th>\n",
       "      <td>2020-03-25 06:18:32+00:00</td>\n",
       "      <td>“Education is not only a ladder of opportunity...</td>\n",
       "      <td>0</td>\n",
       "    </tr>\n",
       "    <tr>\n",
       "      <th>2</th>\n",
       "      <td>2020-03-25 06:05:46+00:00</td>\n",
       "      <td>$GCLT news coming soon #fintech #finance https...</td>\n",
       "      <td>0</td>\n",
       "    </tr>\n",
       "    <tr>\n",
       "      <th>3</th>\n",
       "      <td>2020-03-25 06:35:29+00:00</td>\n",
       "      <td>That amazing feeling when you finally close a ...</td>\n",
       "      <td>1</td>\n",
       "    </tr>\n",
       "    <tr>\n",
       "      <th>4</th>\n",
       "      <td>2020-03-25 06:15:49+00:00</td>\n",
       "      <td>From OHM to SHIB: 5 Most Impressive Altcoins o...</td>\n",
       "      <td>1</td>\n",
       "    </tr>\n",
       "  </tbody>\n",
       "</table>\n",
       "</div>"
      ],
      "text/plain": [
       "                    Datetime  \\\n",
       "0  2020-03-25 06:36:25+00:00   \n",
       "1  2020-03-25 06:18:32+00:00   \n",
       "2  2020-03-25 06:05:46+00:00   \n",
       "3  2020-03-25 06:35:29+00:00   \n",
       "4  2020-03-25 06:15:49+00:00   \n",
       "\n",
       "                                               tweet  Sentiment  \n",
       "0  $DG #Dollar General #Options #maxpain Chart, O...          1  \n",
       "1  “Education is not only a ladder of opportunity...          0  \n",
       "2  $GCLT news coming soon #fintech #finance https...          0  \n",
       "3  That amazing feeling when you finally close a ...          1  \n",
       "4  From OHM to SHIB: 5 Most Impressive Altcoins o...          1  "
      ]
     },
     "execution_count": 2,
     "metadata": {},
     "output_type": "execute_result"
    }
   ],
   "source": [
    "tweets_df = pd.read_csv('f-data.csv') # here we load our file to the workplace\n",
    "tweets_df.head() # here we display all first 5 rows "
   ]
  },
  {
   "cell_type": "code",
   "execution_count": 3,
   "metadata": {},
   "outputs": [
    {
     "data": {
      "text/plain": [
       "(12524, 3)"
      ]
     },
     "execution_count": 3,
     "metadata": {},
     "output_type": "execute_result"
    }
   ],
   "source": [
    "tweets_df.shape # here we check the shape of our file\n"
   ]
  },
  {
   "cell_type": "code",
   "execution_count": 4,
   "metadata": {},
   "outputs": [
    {
     "data": {
      "text/html": [
       "<div>\n",
       "<style scoped>\n",
       "    .dataframe tbody tr th:only-of-type {\n",
       "        vertical-align: middle;\n",
       "    }\n",
       "\n",
       "    .dataframe tbody tr th {\n",
       "        vertical-align: top;\n",
       "    }\n",
       "\n",
       "    .dataframe thead th {\n",
       "        text-align: right;\n",
       "    }\n",
       "</style>\n",
       "<table border=\"1\" class=\"dataframe\">\n",
       "  <thead>\n",
       "    <tr style=\"text-align: right;\">\n",
       "      <th></th>\n",
       "      <th>Datetime</th>\n",
       "      <th>tweet</th>\n",
       "      <th>Sentiment</th>\n",
       "    </tr>\n",
       "  </thead>\n",
       "  <tbody>\n",
       "    <tr>\n",
       "      <th>0</th>\n",
       "      <td>2020-03-25 06:36:25+00:00</td>\n",
       "      <td>$DG #Dollar General #Options #maxpain Chart, O...</td>\n",
       "      <td>1</td>\n",
       "    </tr>\n",
       "    <tr>\n",
       "      <th>1</th>\n",
       "      <td>2020-03-25 06:18:32+00:00</td>\n",
       "      <td>“Education is not only a ladder of opportunity...</td>\n",
       "      <td>0</td>\n",
       "    </tr>\n",
       "    <tr>\n",
       "      <th>2</th>\n",
       "      <td>2020-03-25 06:05:46+00:00</td>\n",
       "      <td>$GCLT news coming soon #fintech #finance https...</td>\n",
       "      <td>0</td>\n",
       "    </tr>\n",
       "    <tr>\n",
       "      <th>3</th>\n",
       "      <td>2020-03-25 06:35:29+00:00</td>\n",
       "      <td>That amazing feeling when you finally close a ...</td>\n",
       "      <td>1</td>\n",
       "    </tr>\n",
       "    <tr>\n",
       "      <th>4</th>\n",
       "      <td>2020-03-25 06:15:49+00:00</td>\n",
       "      <td>From OHM to SHIB: 5 Most Impressive Altcoins o...</td>\n",
       "      <td>1</td>\n",
       "    </tr>\n",
       "  </tbody>\n",
       "</table>\n",
       "</div>"
      ],
      "text/plain": [
       "                    Datetime  \\\n",
       "0  2020-03-25 06:36:25+00:00   \n",
       "1  2020-03-25 06:18:32+00:00   \n",
       "2  2020-03-25 06:05:46+00:00   \n",
       "3  2020-03-25 06:35:29+00:00   \n",
       "4  2020-03-25 06:15:49+00:00   \n",
       "\n",
       "                                               tweet  Sentiment  \n",
       "0  $DG #Dollar General #Options #maxpain Chart, O...          1  \n",
       "1  “Education is not only a ladder of opportunity...          0  \n",
       "2  $GCLT news coming soon #fintech #finance https...          0  \n",
       "3  That amazing feeling when you finally close a ...          1  \n",
       "4  From OHM to SHIB: 5 Most Impressive Altcoins o...          1  "
      ]
     },
     "execution_count": 4,
     "metadata": {},
     "output_type": "execute_result"
    }
   ],
   "source": [
    "tweets_df.drop_duplicates(subset = ['tweet'], inplace = True) # here we remove duplicate tweets...\n",
    "tweets_df.head() #here we check the first five record of out tweet...\n"
   ]
  },
  {
   "cell_type": "code",
   "execution_count": 5,
   "metadata": {},
   "outputs": [
    {
     "data": {
      "text/html": [
       "<div>\n",
       "<style scoped>\n",
       "    .dataframe tbody tr th:only-of-type {\n",
       "        vertical-align: middle;\n",
       "    }\n",
       "\n",
       "    .dataframe tbody tr th {\n",
       "        vertical-align: top;\n",
       "    }\n",
       "\n",
       "    .dataframe thead th {\n",
       "        text-align: right;\n",
       "    }\n",
       "</style>\n",
       "<table border=\"1\" class=\"dataframe\">\n",
       "  <thead>\n",
       "    <tr style=\"text-align: right;\">\n",
       "      <th></th>\n",
       "      <th>Datetime</th>\n",
       "      <th>tweet</th>\n",
       "      <th>Sentiment</th>\n",
       "    </tr>\n",
       "  </thead>\n",
       "  <tbody>\n",
       "    <tr>\n",
       "      <th>0</th>\n",
       "      <td>2020-03-25 06:36:25+00:00</td>\n",
       "      <td>$DG #Dollar General #Options #maxpain Chart, O...</td>\n",
       "      <td>1</td>\n",
       "    </tr>\n",
       "    <tr>\n",
       "      <th>1</th>\n",
       "      <td>2020-03-25 06:18:32+00:00</td>\n",
       "      <td>“Education is not only a ladder of opportunity...</td>\n",
       "      <td>0</td>\n",
       "    </tr>\n",
       "    <tr>\n",
       "      <th>2</th>\n",
       "      <td>2020-03-25 06:05:46+00:00</td>\n",
       "      <td>$GCLT news coming soon #fintech #finance https...</td>\n",
       "      <td>0</td>\n",
       "    </tr>\n",
       "    <tr>\n",
       "      <th>3</th>\n",
       "      <td>2020-03-25 06:35:29+00:00</td>\n",
       "      <td>That amazing feeling when you finally close a ...</td>\n",
       "      <td>1</td>\n",
       "    </tr>\n",
       "    <tr>\n",
       "      <th>4</th>\n",
       "      <td>2020-03-25 06:15:49+00:00</td>\n",
       "      <td>From OHM to SHIB: 5 Most Impressive Altcoins o...</td>\n",
       "      <td>1</td>\n",
       "    </tr>\n",
       "  </tbody>\n",
       "</table>\n",
       "</div>"
      ],
      "text/plain": [
       "                    Datetime  \\\n",
       "0  2020-03-25 06:36:25+00:00   \n",
       "1  2020-03-25 06:18:32+00:00   \n",
       "2  2020-03-25 06:05:46+00:00   \n",
       "3  2020-03-25 06:35:29+00:00   \n",
       "4  2020-03-25 06:15:49+00:00   \n",
       "\n",
       "                                               tweet  Sentiment  \n",
       "0  $DG #Dollar General #Options #maxpain Chart, O...          1  \n",
       "1  “Education is not only a ladder of opportunity...          0  \n",
       "2  $GCLT news coming soon #fintech #finance https...          0  \n",
       "3  That amazing feeling when you finally close a ...          1  \n",
       "4  From OHM to SHIB: 5 Most Impressive Altcoins o...          1  "
      ]
     },
     "execution_count": 5,
     "metadata": {},
     "output_type": "execute_result"
    }
   ],
   "source": [
    "tweets_df.dropna(inplace = True) # here we remove null rows...\n",
    "tweets_df.head()"
   ]
  },
  {
   "cell_type": "code",
   "execution_count": 6,
   "metadata": {},
   "outputs": [
    {
     "data": {
      "text/plain": [
       "(12524, 3)"
      ]
     },
     "execution_count": 6,
     "metadata": {},
     "output_type": "execute_result"
    }
   ],
   "source": [
    "tweets_df.shape"
   ]
  },
  {
   "cell_type": "code",
   "execution_count": 7,
   "metadata": {},
   "outputs": [],
   "source": [
    "# here we clean our tweet\n",
    "def TextClean(tweet):\n",
    "    tweet = tweet.lower()\n",
    "    tweet = re.sub(r'@[a-z0-9_]\\S+', '', tweet)\n",
    "    tweet = re.sub(r'#[a-z0-9_]\\S+', '', tweet)\n",
    "    tweet = re.sub(r'&[a-z0-9_]\\S+', '', tweet)\n",
    "    tweet = re.sub(r'[?!.+,;$%&\"]+', '', tweet)\n",
    "    tweet = re.sub(r'rt[\\s]+', '', tweet)\n",
    "    tweet = re.sub(r'\\d+', '', tweet)\n",
    "    tweet = re.sub(r'\\$', '', tweet)\n",
    "    tweet = re.sub(r'rt+', '', tweet)\n",
    "    tweet = re.sub(r'https?:?\\/\\/\\S+', '', tweet)\n",
    "    \n",
    "    return tweet"
   ]
  },
  {
   "cell_type": "code",
   "execution_count": 8,
   "metadata": {},
   "outputs": [
    {
     "data": {
      "text/html": [
       "<div>\n",
       "<style scoped>\n",
       "    .dataframe tbody tr th:only-of-type {\n",
       "        vertical-align: middle;\n",
       "    }\n",
       "\n",
       "    .dataframe tbody tr th {\n",
       "        vertical-align: top;\n",
       "    }\n",
       "\n",
       "    .dataframe thead th {\n",
       "        text-align: right;\n",
       "    }\n",
       "</style>\n",
       "<table border=\"1\" class=\"dataframe\">\n",
       "  <thead>\n",
       "    <tr style=\"text-align: right;\">\n",
       "      <th></th>\n",
       "      <th>tweet</th>\n",
       "      <th>Sentiment</th>\n",
       "      <th>CleanTweet</th>\n",
       "    </tr>\n",
       "    <tr>\n",
       "      <th>Datetime</th>\n",
       "      <th></th>\n",
       "      <th></th>\n",
       "      <th></th>\n",
       "    </tr>\n",
       "  </thead>\n",
       "  <tbody>\n",
       "    <tr>\n",
       "      <th>2020-03-25 06:36:25+00:00</th>\n",
       "      <td>$DG #Dollar General #Options #maxpain Chart, O...</td>\n",
       "      <td>1</td>\n",
       "      <td>dg, general, chaopen, interest, chaupdate</td>\n",
       "    </tr>\n",
       "    <tr>\n",
       "      <th>2020-03-25 06:18:32+00:00</th>\n",
       "      <td>“Education is not only a ladder of opportunity...</td>\n",
       "      <td>0</td>\n",
       "      <td>“, education, is, not, only, a, ladder, of, op...</td>\n",
       "    </tr>\n",
       "    <tr>\n",
       "      <th>2020-03-25 06:05:46+00:00</th>\n",
       "      <td>$GCLT news coming soon #fintech #finance https...</td>\n",
       "      <td>0</td>\n",
       "      <td>gclt, news, coming, soon</td>\n",
       "    </tr>\n",
       "    <tr>\n",
       "      <th>2020-03-25 06:35:29+00:00</th>\n",
       "      <td>That amazing feeling when you finally close a ...</td>\n",
       "      <td>1</td>\n",
       "      <td>that, amazing, feeling, when, you, finally, cl...</td>\n",
       "    </tr>\n",
       "    <tr>\n",
       "      <th>2020-03-25 06:15:49+00:00</th>\n",
       "      <td>From OHM to SHIB: 5 Most Impressive Altcoins o...</td>\n",
       "      <td>1</td>\n",
       "      <td>from, ohm, to, shib, :, most, impressive, altc...</td>\n",
       "    </tr>\n",
       "  </tbody>\n",
       "</table>\n",
       "</div>"
      ],
      "text/plain": [
       "                                                                       tweet  \\\n",
       "Datetime                                                                       \n",
       "2020-03-25 06:36:25+00:00  $DG #Dollar General #Options #maxpain Chart, O...   \n",
       "2020-03-25 06:18:32+00:00  “Education is not only a ladder of opportunity...   \n",
       "2020-03-25 06:05:46+00:00  $GCLT news coming soon #fintech #finance https...   \n",
       "2020-03-25 06:35:29+00:00  That amazing feeling when you finally close a ...   \n",
       "2020-03-25 06:15:49+00:00  From OHM to SHIB: 5 Most Impressive Altcoins o...   \n",
       "\n",
       "                           Sentiment  \\\n",
       "Datetime                               \n",
       "2020-03-25 06:36:25+00:00          1   \n",
       "2020-03-25 06:18:32+00:00          0   \n",
       "2020-03-25 06:05:46+00:00          0   \n",
       "2020-03-25 06:35:29+00:00          1   \n",
       "2020-03-25 06:15:49+00:00          1   \n",
       "\n",
       "                                                                  CleanTweet  \n",
       "Datetime                                                                      \n",
       "2020-03-25 06:36:25+00:00          dg, general, chaopen, interest, chaupdate  \n",
       "2020-03-25 06:18:32+00:00  “, education, is, not, only, a, ladder, of, op...  \n",
       "2020-03-25 06:05:46+00:00                           gclt, news, coming, soon  \n",
       "2020-03-25 06:35:29+00:00  that, amazing, feeling, when, you, finally, cl...  \n",
       "2020-03-25 06:15:49+00:00  from, ohm, to, shib, :, most, impressive, altc...  "
      ]
     },
     "execution_count": 8,
     "metadata": {},
     "output_type": "execute_result"
    }
   ],
   "source": [
    "tweets_df['Datetime'] = pd.to_datetime(tweets_df['Datetime'])\n",
    "tweets_df.set_index('Datetime', inplace = True)\n",
    "tweets_df.drop_duplicates(subset = ['tweet'], inplace = True)\n",
    "tweets_df['CleanTweet'] = tweets_df['tweet'].apply(TextClean)\n",
    "tweet_tokenizer = TweetTokenizer()\n",
    "tweets_df['CleanTweet'] = tweets_df['CleanTweet'].apply(tweet_tokenizer.tokenize)\n",
    "tweets_df['CleanTweet'] = [', '.join(map(str, token)) for token in tweets_df['CleanTweet']]\n",
    "# tweets_df.to_csv('clean' + '.csv', encoding='utf-8')\n",
    "tweets_df.head()"
   ]
  },
  {
   "cell_type": "code",
   "execution_count": 9,
   "metadata": {},
   "outputs": [
    {
     "name": "stdout",
     "output_type": "stream",
     "text": [
      "6559\n",
      "1492\n",
      "4473\n"
     ]
    },
    {
     "data": {
      "image/png": "[encoded data removed]",
      "text/plain": [
       "<Figure size 432x288 with 1 Axes>"
      ]
     },
     "metadata": {
      "needs_background": "light"
     },
     "output_type": "display_data"
    }
   ],
   "source": [
    "%matplotlib inline\n",
    "tweets_df.Sentiment.value_counts().plot(kind='bar',title=\"Sentiment Chart\")\n",
    "print((tweets_df['Sentiment'].values == 1).sum())\n",
    "print((tweets_df['Sentiment'].values == 2).sum())\n",
    "print((tweets_df['Sentiment'].values == 0).sum())"
   ]
  },
  {
   "cell_type": "code",
   "execution_count": 10,
   "metadata": {},
   "outputs": [
    {
     "name": "stdout",
     "output_type": "stream",
     "text": [
      "[[ 465  689    0]\n",
      " [  22 1612    1]\n",
      " [  25  246   71]]\n",
      "0.6860427978281699\n",
      "              precision    recall  f1-score   support\n",
      "\n",
      "           0       0.91      0.40      0.56      1154\n",
      "           1       0.63      0.99      0.77      1635\n",
      "           2       0.99      0.21      0.34       342\n",
      "\n",
      "    accuracy                           0.69      3131\n",
      "   macro avg       0.84      0.53      0.56      3131\n",
      "weighted avg       0.77      0.69      0.65      3131\n",
      "\n"
     ]
    }
   ],
   "source": [
    "# SVM\n",
    "label=tweets_df[[\"Sentiment\"]].values\n",
    "\n",
    "features=tweets_df[[\"CleanTweet\"]]\n",
    "\n",
    "from sklearn.feature_extraction.text import TfidfVectorizer\n",
    "vectorizer=TfidfVectorizer(analyzer=\"word\",lowercase=True)\n",
    "sentence_train_vector=vectorizer.fit_transform(tweets_df.iloc[:,0].astype(str))\n",
    "\n",
    "features=sentence_train_vector\n",
    "\n",
    "from sklearn.model_selection import train_test_split\n",
    "x_train, x_test, y_train, y_test = train_test_split(features,label,test_size=0.25,random_state=0)\n",
    "\n",
    "from sklearn.svm import SVC\n",
    "svc=SVC(kernel='poly')\n",
    "svc.fit(x_train,y_train)\n",
    "result=svc.predict(x_test)\n",
    "\n",
    "from sklearn.metrics import confusion_matrix \n",
    "cm=confusion_matrix(y_test,result)\n",
    "print(cm)\n",
    "\n",
    "from sklearn.metrics import accuracy_score,classification_report\n",
    "accuracy=accuracy_score(y_test,result)\n",
    "print(accuracy)\n",
    "\n",
    "print(classification_report(y_test,result))"
   ]
  },
  {
   "cell_type": "code",
   "execution_count": 11,
   "metadata": {},
   "outputs": [
    {
     "name": "stdout",
     "output_type": "stream",
     "text": [
      "1    6559\n",
      "2    1492\n",
      "Name: Sentiment, dtype: int64\n",
      "(6038, 100) (6038, 2)\n",
      "(2013, 100) (2013, 2)\n",
      "Model: \"sequential\"\n",
      "_________________________________________________________________\n",
      " Layer (type)                Output Shape              Param #   \n",
      "=================================================================\n",
      " embedding (Embedding)       (None, 100, 128)          128000    \n",
      "                                                                 \n",
      " dropout (Dropout)           (None, 100, 128)          0         \n",
      "                                                                 \n",
      " conv1d (Conv1D)             (None, 96, 64)            41024     \n",
      "                                                                 \n",
      " max_pooling1d (MaxPooling1D  (None, 24, 64)           0         \n",
      " )                                                               \n",
      "                                                                 \n",
      " lstm (LSTM)                 (None, 70)                37800     \n",
      "                                                                 \n",
      " dense (Dense)               (None, 2)                 142       \n",
      "                                                                 \n",
      "=================================================================\n",
      "Total params: 206,966\n",
      "Trainable params: 206,966\n",
      "Non-trainable params: 0\n",
      "_________________________________________________________________\n",
      "None\n",
      "68/68 - 2s - 2s/epoch - 35ms/step\n",
      "              precision    recall  f1-score   support\n",
      "\n",
      "    negative       0.89      0.97      0.92      1659\n",
      "    positive       0.73      0.42      0.53       354\n",
      "\n",
      "    accuracy                           0.87      2013\n",
      "   macro avg       0.81      0.69      0.73      2013\n",
      "weighted avg       0.86      0.87      0.86      2013\n",
      "\n"
     ]
    },
    {
     "data": {
      "text/plain": [
       "<Figure size 432x288 with 0 Axes>"
      ]
     },
     "metadata": {},
     "output_type": "display_data"
    },
    {
     "data": {
      "image/png": "[encoded data removed]",
      "text/plain": [
       "<Figure size 432x288 with 2 Axes>"
      ]
     },
     "metadata": {
      "needs_background": "light"
     },
     "output_type": "display_data"
    },
    {
     "data": {
      "image/png": "[encoded data removed]",
      "text/plain": [
       "<Figure size 432x288 with 2 Axes>"
      ]
     },
     "metadata": {
      "needs_background": "light"
     },
     "output_type": "display_data"
    }
   ],
   "source": [
    "#LSTM \n",
    "\n",
    "data = pd.read_csv('f-data.csv')  \n",
    "\n",
    "data=data[data.Sentiment !=0]\n",
    "print(data.Sentiment.value_counts())\n",
    "\n",
    "#Embedding\n",
    "max_features=1000\n",
    "maxlen=100\n",
    "embedding_size=128\n",
    "\n",
    "#Convolution\n",
    "kernel_size=5\n",
    "filters=64\n",
    "pool_size=4\n",
    "\n",
    "lstm_output_size=70\n",
    "\n",
    "batch_size=30\n",
    "epochs=2\n",
    "\n",
    "for idx,row in data.iterrows():\n",
    "    row[0] = row[0].replace('rt',' ')\n",
    "    \n",
    "tokenizer=Tokenizer(nb_words=max_features,split=' ')\n",
    "tokenizer.fit_on_texts(data['tweet'].values)\n",
    "X=tokenizer.texts_to_sequences(data['tweet'].values)\n",
    "X=pad_sequences(X, maxlen = maxlen)\n",
    "\n",
    "Y=pd.get_dummies(data['Sentiment']).values\n",
    "X_train, X_test, Y_train, Y_test = train_test_split(X,Y, test_size = 0.25, random_state = 42)\n",
    "print(X_train.shape,Y_train.shape)\n",
    "print(X_test.shape,Y_test.shape)\n",
    "\n",
    "class PlotLosses(keras.callbacks.Callback):\n",
    "    def on_train_begin(self, logs={}):\n",
    "        self.i = 0\n",
    "        self.x = []\n",
    "        self.losses = []\n",
    "        self.val_losses = []\n",
    "\n",
    "        self.fig = plt.figure()\n",
    "\n",
    "        self.logs = []\n",
    "\n",
    "    def on_epoch_end(self, epoch, logs={}):\n",
    "\n",
    "        self.logs.append(logs)\n",
    "        self.x.append(self.i)\n",
    "        self.losses.append(logs.get('loss'))\n",
    "        self.val_losses.append(logs.get('val_loss'))\n",
    "        self.i += 1\n",
    "        \n",
    "plot_losses = PlotLosses()\n",
    "\n",
    "model = Sequential()\n",
    "model.add(Embedding(max_features, embedding_size, input_length=maxlen))\n",
    "model.add(Dropout(0.25))\n",
    "model.add(Conv1D(filters, kernel_size, padding='valid', activation='relu', strides=1))\n",
    "model.add(MaxPooling1D(pool_size=pool_size))\n",
    "model.add(LSTM(lstm_output_size))\n",
    "model.add(Dense(2,activation='softmax'))\n",
    "model.compile(loss = 'categorical_crossentropy', optimizer='adam',metrics = ['accuracy'])\n",
    "print(model.summary())\n",
    "\n",
    "model.fit(X_train, Y_train, batch_size=batch_size, epochs=epochs,shuffle=True, validation_data=(X_test, Y_test),callbacks=[plot_losses],verbose = 0)\n",
    "\n",
    "yhat = model.predict(X_test, verbose = 2, batch_size = batch_size)\n",
    "\n",
    "from sklearn import metrics\n",
    "print(metrics.classification_report(Y_test[:,1], np.round(yhat[:,1]) ,target_names = [\"negative\", \"positive\"]))\n",
    "\n",
    "score = ['negative', 'positive']\n",
    "\n",
    "def plot_confusion_matrix(cm, title='Confusion matrix', cmap=plt.cm.Greys):\n",
    "    plt.imshow(cm, interpolation='nearest', cmap=cmap)\n",
    "    plt.title(title)\n",
    "    plt.colorbar()\n",
    "    tick_marks = np.arange(len(set(score)))\n",
    "    plt.xticks(tick_marks, score, rotation=45)\n",
    "    plt.yticks(tick_marks, score)\n",
    "    plt.tight_layout()\n",
    "    plt.ylabel('True label')\n",
    "    plt.xlabel('Predicted label')\n",
    "    \n",
    "# Compute confusion matrix\n",
    "cm = confusion_matrix(Y_test[:,1], np.round(yhat[:,1]))\n",
    "np.set_printoptions(precision=2)\n",
    "plt.figure()\n",
    "plot_confusion_matrix(cm)    \n",
    "\n",
    "cm_normalized = cm.astype('float') / cm.sum(axis=1)[:, np.newaxis]\n",
    "plt.figure()\n",
    "plot_confusion_matrix(cm_normalized, title='Normalized confusion matrix')\n",
    "\n",
    "plt.show()\n"
   ]
  },
  {
   "cell_type": "code",
   "execution_count": null,
   "metadata": {},
   "outputs": [],
   "source": []
  }
 ],
 "metadata": {
  "kernelspec": {
   "display_name": "Python 3",
   "language": "python",
   "name": "python3"
  },
  "language_info": {
   "codemirror_mode": {
    "name": "ipython",
    "version": 3
   },
   "file_extension": ".py",
   "mimetype": "text/x-python",
   "name": "python",
   "nbconvert_exporter": "python",
   "pygments_lexer": "ipython3",
   "version": "3.8.5"
  }
 },
 "nbformat": 4,
 "nbformat_minor": 5
}
